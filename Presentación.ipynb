{
 "cells": [
  {
   "cell_type": "markdown",
   "metadata": {},
   "source": [
    "# Simulación de procesos financieros\n",
    "\n",
    "<img style=\"float: right; margin: 0px 0px 15px 15px;\" src=\"https://upload.wikimedia.org/wikipedia/commons/d/db/Logo_ITESO_normal.jpg\" width=\"110px\" height=\"70px\" />\n",
    "\n",
    "\n",
    "### Integrantes:\n",
    "\n",
    ">#### María Fernanda Ansoleaga\n",
    ">#### Oscar Germán Villa"
   ]
  },
  {
   "cell_type": "markdown",
   "metadata": {},
   "source": [
    "## Expectativas del Curso"
   ]
  },
  {
   "cell_type": "markdown",
   "metadata": {},
   "source": [
    "- Poder crear modelos de simulación para diferentes entornos, tales como las inversiones, económicos, inventarios, etc.\n",
    "- Tomar decisiones con dichos modelos.\n",
    "- Utilizar el modelo de monte carlo para la resolución de los sistemas.\n",
    "- Aplicación en situaciones reales.\n",
    "- Mejorar el nivel que se tiene en cuanto al lenguaje de programación Python."
   ]
  },
  {
   "cell_type": "markdown",
   "metadata": {},
   "source": [
    "## Pre-Requisitos"
   ]
  },
  {
   "cell_type": "markdown",
   "metadata": {},
   "source": [
    "Para poder tomar esta materia,se recomienda el haber cursado y tener conocimiento de lo siguiente:"
   ]
  },
  {
   "cell_type": "markdown",
   "metadata": {},
   "source": [
    "#### Conocimientos"
   ]
  },
  {
   "cell_type": "markdown",
   "metadata": {},
   "source": [
    "- Excel \n",
    "- Python\n",
    "- Programación\n"
   ]
  },
  {
   "cell_type": "markdown",
   "metadata": {},
   "source": [
    "#### Cursos Requeridos"
   ]
  },
  {
   "cell_type": "markdown",
   "metadata": {},
   "source": [
    "| Curso | Semestre |\n",
    "|------|------|\n",
    "| Álgebra Lineal | 3 |\n",
    "| Cálculo Integral | 2|\n",
    "| Programación Básica | 2 |\n",
    "| Métodos Numéricos | 4 |\n",
    "| Simulación Matemática | 6 |\n",
    "| Probabilidad y Estadística | 2 |"
   ]
  },
  {
   "cell_type": "markdown",
   "metadata": {},
   "source": [
    "#### Aplicación Real"
   ]
  },
  {
   "cell_type": "markdown",
   "metadata": {},
   "source": [
    "Con la simulación podríamos obtener rendimientos anualizados mediante las opciones, basándonos en la siguiente fórmula:\n",
    "    \n",
    "\\begin{align}\n",
    "\\ Rend. Anualizado= \\frac{\\frac{x}{D}*360}{Stk}\\\n",
    "\\end{align}\n",
    "Donde:\n",
    "- $x$ = Prima\n",
    "- $D$ = Días transcurridos\n",
    "- $Stk$ = Strike\n",
    "\n",
    "Lo interesante en este caso es simular las primas con el método de Black & Scholes"
   ]
  }
 ],
 "metadata": {
  "kernelspec": {
   "display_name": "Python 3",
   "language": "python",
   "name": "python3"
  },
  "language_info": {
   "codemirror_mode": {
    "name": "ipython",
    "version": 3
   },
   "file_extension": ".py",
   "mimetype": "text/x-python",
   "name": "python",
   "nbconvert_exporter": "python",
   "pygments_lexer": "ipython3",
   "version": "3.6.5"
  }
 },
 "nbformat": 4,
 "nbformat_minor": 2
}
